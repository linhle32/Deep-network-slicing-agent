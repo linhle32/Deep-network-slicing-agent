{
 "cells": [
  {
   "cell_type": "markdown",
   "id": "30e52780",
   "metadata": {},
   "source": [
    "### Import libraries"
   ]
  },
  {
   "cell_type": "code",
   "execution_count": null,
   "id": "96bd44cf",
   "metadata": {},
   "outputs": [],
   "source": [
    "import numpy as np\n",
    "import matplotlib.pyplot as plt\n",
    "\n",
    "import tensorflow as tf\n",
    "from tensorflow.keras.layers import Layer, Dense, Attention, MultiHeadAttention, Flatten, Reshape, Concatenate, RepeatVector\n",
    "from tensorflow import math\n",
    "from tensorflow.keras.models import Model\n",
    "from tensorflow.keras.optimizers import SGD"
   ]
  },
  {
   "cell_type": "markdown",
   "id": "824649bb",
   "metadata": {},
   "source": [
    "### Set up simulation\n",
    "\n",
    "- Rc: Resources in substrate networks (min resources, max resources, number of nodes)\n",
    "- ns: Number of demanding slices\n",
    "- nv: Number of demanding VNFs per slice"
   ]
  },
  {
   "cell_type": "code",
   "execution_count": null,
   "id": "457dc711",
   "metadata": {},
   "outputs": [],
   "source": [
    "####\n",
    "#parameters\n",
    "Rc = np.random.randint(10,30,100)\n",
    "ns = 20\n",
    "nv = 10"
   ]
  },
  {
   "cell_type": "markdown",
   "id": "2ba07bdb",
   "metadata": {},
   "source": [
    "### Model building"
   ]
  },
  {
   "cell_type": "code",
   "execution_count": null,
   "id": "105cffcb",
   "metadata": {
    "scrolled": true
   },
   "outputs": [],
   "source": [
    "####\n",
    "#parameters\n",
    "n = Rc.shape[0] + ns                       #input shape\n",
    "R_dense = [Rc.shape[0] for _ in range(3)]  #dense block for substrate network\n",
    "r_dense = [nv for _ in range(3)]           #dense block for demanding slices\n",
    "decis_dense = [n*3 for _ in range(3)]      #dense block for decision making\n",
    "n_ah = 5                                   #number of attention heads\n",
    "ah_size = nv                               #size of attention heads\n",
    "\n",
    "\n",
    "####\n",
    "#construct model\n",
    "R_in = tf.keras.Input(shape=(Rc.shape[0]))\n",
    "r_in = tf.keras.Input(shape=(ns,nv))\n",
    "msk = tf.keras.Input(shape=(ns))\n",
    "#substrate dense\n",
    "Rx = R_in\n",
    "for nn in R_dense:\n",
    "    Rx = Dense(nn, activation='relu')(Rx)\n",
    "Rx = RepeatVector(ns)(Rx)\n",
    "#request dense\n",
    "rx = r_in\n",
    "for nn in r_dense:\n",
    "    rx = Dense(nn, activation='relu')(rx)\n",
    "#attention\n",
    "mha = MultiHeadAttention(num_heads=n_ah, key_dim=ah_size, attention_axes=1)\n",
    "rxa = mha(rx, rx)\n",
    "#concatenation\n",
    "x = tf.concat([Rx,rx,rxa], axis=-1)\n",
    "#decision dense\n",
    "for nn in decis_dense:\n",
    "    x = Dense(nn, activation='relu')(x)\n",
    "#output layer\n",
    "q = Dense(units=1, activation='linear')(x)\n",
    "#loss\n",
    "msk_q = Layer(name='msk_q')(Flatten()(q) * msk)\n",
    "# Build and Compile model\n",
    "model = Model(inputs=[R_in,r_in,msk], outputs=[q, msk_q])\n",
    "model.compile(loss={'msk_q': 'mse'}, optimizer='adam')"
   ]
  },
  {
   "cell_type": "code",
   "execution_count": null,
   "id": "285addc3",
   "metadata": {},
   "outputs": [],
   "source": [
    "### data storage to use in simulation\n",
    "XR = []        #resources\n",
    "Xr = []        #requested slices\n",
    "Qs = []         #predicted Q\n",
    "prd_acts = []   #predicted actions\n",
    "Ps = []\n",
    "accs = []"
   ]
  },
  {
   "cell_type": "markdown",
   "id": "bf8a0dc8",
   "metadata": {},
   "source": [
    "### Running simulation"
   ]
  },
  {
   "cell_type": "code",
   "execution_count": null,
   "id": "588f8f8a",
   "metadata": {
    "scrolled": true
   },
   "outputs": [],
   "source": [
    "####\n",
    "#parameters\n",
    "reward = 0.2\n",
    "penalty = -0.2\n",
    "gamma = 0.9 #discount factor\n",
    "batch_size = 256 #batch size for experience relay; number of previous actions to sample\n",
    "learning_rate = 1e-6\n",
    "\n",
    "\n",
    "####\n",
    "#functional codes\n",
    "for ep in range(200):\n",
    "####one episode\n",
    "    #relay data\n",
    "    Rx = [] #current resources\n",
    "    rx = [] #current request slices\n",
    "    ax = [] #current action taken\n",
    "    Rs = [] #rewards\n",
    "    \n",
    "    #generate slices\n",
    "    rq = np.random.randint(1,29,(ns,nv))\n",
    "    \n",
    "    #select and allocate slices\n",
    "    Rt = Rc.copy()\n",
    "    rt = rq.copy()\n",
    "    allocated_slices = []\n",
    "    unallocable_slices = set()\n",
    "    allocated = np.zeros(rq.shape)\n",
    "    unallocable = np.zeros(rq.shape)\n",
    "    slice_mapping = {}\n",
    "\n",
    "    while len(allocated_slices) + len(unallocable_slices) < ns:\n",
    "        mask = np.ones((1,ns)) #dummy mask of 1\n",
    "        qs = model.predict([Rt.reshape(1,-1), rt.reshape(1,ns,nv), mask])[0] #current q values\n",
    "        sorted_si = np.argsort(-qs.flatten())\n",
    "        for si in sorted_si:\n",
    "            if (si in allocated_slices) or (si in unallocable_slices):\n",
    "                continue\n",
    "            #allocate selected slice\n",
    "            Rt, rt, allocated, unallocable, s0 = allocate_slice(Rt, rt, si, allocated, unallocable)\n",
    "            #update environment data\n",
    "            slice_mapping.update(s0)\n",
    "            allocated_slices.append(si)\n",
    "            unallocable_slices.update(np.argwhere(unallocable.sum(axis=1)!=0).flatten())\n",
    "            #update relay data\n",
    "            Rx.append(Rt)\n",
    "            rx.append(rt)\n",
    "            ax.append(si)\n",
    "            #rewards\n",
    "            if len(allocated_slices) < ns: #episode has not ended\n",
    "                Rs.append(len(allocated_slices)*reward)\n",
    "            else:\n",
    "                Rs.append(len(allocated_slices)*reward + len(unallocable_slices)*penalty)\n",
    "            break\n",
    "                \n",
    "#     #calculate a Qs\n",
    "    rr = Rs.copy()\n",
    "    for i in range(-2,-len(rr)-1,-1):\n",
    "        rr[i] = rr[i] + rr[i+1]*gamma\n",
    "    \n",
    "    rr = rr[:len(allocated_slices)]\n",
    "    \n",
    "    Qs.append(rr)\n",
    "    prd_acts.append(ax)\n",
    "    Ps.append(slice_mapping)\n",
    "    XR.append(Rx)\n",
    "    Xr.append(rx)\n",
    "    \n",
    "    batch_indices = [-1]\n",
    "    if len(XR) > batch_size:\n",
    "        batch_indices += list(np.random.choice(np.arange(len(XR)),batch_size-1))\n",
    "\n",
    "    Res = np.vstack(slice_eps(XR,batch_indices))\n",
    "    Req = np.vstack(slice_eps(Xr,batch_indices)).reshape(Res.shape[0],-1,nv)\n",
    "    Acts = slice_eps(prd_acts, batch_indices)\n",
    "    Qy = slice_eps(Qs, batch_indices)\n",
    "    masks = gen_mask(Acts, len(Acts), ns)\n",
    "    ys = gen_y(Qy, masks)\n",
    "    \n",
    "    model.fit([Res,Req,masks], ys, epochs=1, verbose=True)"
   ]
  },
  {
   "cell_type": "markdown",
   "id": "f52ab016",
   "metadata": {},
   "source": [
    "### evaluation simulation"
   ]
  },
  {
   "cell_type": "code",
   "execution_count": null,
   "id": "a4e26e19",
   "metadata": {
    "scrolled": true
   },
   "outputs": [],
   "source": [
    "agents = []\n",
    "max_dem = []\n",
    "min_dem = []\n",
    "tot_dem = []\n",
    "ind_dem = []\n",
    "\n",
    "for _ in range(100):\n",
    "    rq = np.random.randint(1,29,(ns,nv))\n",
    "    agents.append(len(agent_allocate(Rc,rq,model)[0]))\n",
    "    max_dem.append((allocate_slices_max_dem(Rc,rq)[1].sum(axis=1)==0).sum())\n",
    "    min_dem.append((allocate_slices_min_dem(Rc,rq)[1].sum(axis=1)==0).sum())\n",
    "    tot_dem.append((allocate_slices_tot_dem(Rc,rq)[1].sum(axis=1)==0).sum())\n",
    "    ind_dem.append((allocate_all_vnfs(Rc,rq)[1].sum(axis=1)==0).sum())\n",
    "    \n",
    "np.mean(agents), np.mean(max_dem), np.mean(min_dem), np.mean(tot_dem), np.mean(ind_dem)"
   ]
  }
 ],
 "metadata": {
  "kernelspec": {
   "display_name": "Python 3 (ipykernel)",
   "language": "python",
   "name": "python3"
  },
  "language_info": {
   "codemirror_mode": {
    "name": "ipython",
    "version": 3
   },
   "file_extension": ".py",
   "mimetype": "text/x-python",
   "name": "python",
   "nbconvert_exporter": "python",
   "pygments_lexer": "ipython3",
   "version": "3.9.12"
  }
 },
 "nbformat": 4,
 "nbformat_minor": 5
}
